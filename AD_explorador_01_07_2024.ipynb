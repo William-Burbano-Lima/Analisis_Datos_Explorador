{
  "nbformat": 4,
  "nbformat_minor": 0,
  "metadata": {
    "colab": {
      "provenance": [],
      "authorship_tag": "ABX9TyOa1taooAkYh2dzTtmDoAet",
      "include_colab_link": true
    },
    "kernelspec": {
      "name": "python3",
      "display_name": "Python 3"
    },
    "language_info": {
      "name": "python"
    }
  },
  "cells": [
    {
      "cell_type": "markdown",
      "metadata": {
        "id": "view-in-github",
        "colab_type": "text"
      },
      "source": [
        "<a href=\"https://colab.research.google.com/github/William-Burbano-Lima/Analisis_Datos_Explorador/blob/main/AD_explorador_01_07_2024.ipynb\" target=\"_parent\"><img src=\"https://colab.research.google.com/assets/colab-badge.svg\" alt=\"Open In Colab\"/></a>"
      ]
    },
    {
      "cell_type": "code",
      "execution_count": null,
      "metadata": {
        "id": "RfH_hf-1buQU"
      },
      "outputs": [],
      "source": []
    },
    {
      "cell_type": "markdown",
      "source": [
        "Plan de clase 01/07/2024\n",
        "\n",
        "Analisis de Datos Explorador\n",
        "\n",
        "Ejecutor Técnico William Burbano Lima\n",
        "\n",
        "\n",
        "### Objetivos de Aprendizaje:\n",
        "1. **Familiarización con el dataset Titanic.csv y sus variables.**\n",
        "2. **Aplicación de técnicas de visualización y análisis exploratorio de datos.**\n",
        "3. **Cálculo y interpretación de métricas estadísticas relevantes.**\n",
        "\n",
        "### Estructura de la Clase:\n",
        "\n",
        "#### Parte 1: Introducción y Exploración Inicial del Dataset (45 minutos)\n",
        "- **Bienvenida y Presentación del Ejecutor** (5 minutos)\n",
        "  - Introducción al tema del Titanic y la importancia del análisis de datos en la investigación histórica.\n",
        "\n",
        "- **Carga y Visualización del Dataset** (15 minutos)\n",
        "  - Abrir el archivo Titanic.csv utilizando un sistema de hojas de cálculo (por ejemplo, Excel o Google Sheets).\n",
        "  - Visualización de las columnas disponibles y discusión sobre la naturaleza de los datos.\n",
        "\n",
        "- **Significado de las Variables** (15 minutos)\n",
        "  - Utilización de recursos en línea para determinar el significado de cada columna del dataset (por ejemplo, nombre, edad, género, clase de pasajero, etc.).\n",
        "\n",
        "- **Identificación y Coloreo de Variables** (10 minutos)\n",
        "  - Clasificación de las columnas según el tipo de variable (cuantitativa o cualitativa).\n",
        "  - Cambio de color de las columnas en la hoja de cálculo para distinguir entre tipos de variables.\n",
        "\n",
        "#### Parte 2: Análisis de Supervivencia General y por Género (1 hora)\n",
        "- **Cálculo del Promedio de Supervivencia General** (15 minutos)\n",
        "  - Utilización de fórmulas en la hoja de cálculo para calcular el promedio de la columna de supervivencia.\n",
        "\n",
        "- **Cálculo del Promedio de Supervivencia por Género** (20 minutos)\n",
        "  - Filtrado y cálculo del promedio de supervivencia para hombres y mujeres por separado.\n",
        "\n",
        "#### Parte 3: Análisis de Supervivencia por Clase de Tiquete (1 hora y 15 minutos)\n",
        "- **Análisis de Distribución de Clases de Tiquete** (15 minutos)\n",
        "  - Conteo de las clases de tiquete presentes en el dataset y discusión sobre su importancia histórica y social.\n",
        "\n",
        "- **Cálculo del Promedio de Supervivencia por Clase de Tiquete** (30 minutos)\n",
        "  - Agrupación de datos por clase de tiquete y cálculo del promedio de supervivencia para cada una.\n",
        "\n",
        "#### Parte 4: Presentación de Resultados y Discusión (30 minutos)\n",
        "- **Preparación de Gráficos y Tablas** (20 minutos)\n",
        "  - Creación de gráficos de barras y tablas para visualizar los promedios de supervivencia calculados.\n",
        "\n",
        "- **Interpretación de Resultados** (10 minutos)\n",
        "  - Discusión en grupo sobre las diferencias encontradas en la supervivencia según género y clase de tiquete.\n",
        "\n",
        "#### Parte 5: Conclusiones y Cierre (15 minutos)\n",
        "- **Resumen y Recapitulación** (10 minutos)\n",
        "  - Revisión de los conceptos clave aprendidos durante la sesión.\n",
        "\n",
        "- **Sesión de Preguntas y Respuestas** (5 minutos)\n",
        "  - Espacio para preguntas finales y retroalimentación de los participantes.\n",
        "  \n",
        "Fin clase"
      ],
      "metadata": {
        "id": "clFgrD9wbvb6"
      }
    }
  ]
}