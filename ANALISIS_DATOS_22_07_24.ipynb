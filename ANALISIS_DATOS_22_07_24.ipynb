{
  "nbformat": 4,
  "nbformat_minor": 0,
  "metadata": {
    "colab": {
      "provenance": [],
      "authorship_tag": "ABX9TyPJuyjoF8Yra3oLZwJLx+wH",
      "include_colab_link": true
    },
    "kernelspec": {
      "name": "python3",
      "display_name": "Python 3"
    },
    "language_info": {
      "name": "python"
    }
  },
  "cells": [
    {
      "cell_type": "markdown",
      "metadata": {
        "id": "view-in-github",
        "colab_type": "text"
      },
      "source": [
        "<a href=\"https://colab.research.google.com/github/William-Burbano-Lima/Analisis_Datos_Explorador/blob/main/ANALISIS_DATOS_22_07_24.ipynb\" target=\"_parent\"><img src=\"https://colab.research.google.com/assets/colab-badge.svg\" alt=\"Open In Colab\"/></a>"
      ]
    },
    {
      "cell_type": "code",
      "execution_count": null,
      "metadata": {
        "id": "Ye6fda7qgefi"
      },
      "outputs": [],
      "source": []
    },
    {
      "cell_type": "markdown",
      "source": [
        "### ANALISIS DE DATOS EXPLORADOR\n",
        "**Ejecutor Técnico: William Burbano Lima**\n",
        "**Fecha:** 22/07/2024\n",
        "### Clase: Análisis de Datos en Power BI con DAX e Instalación de Python y Visual Studio Code\n",
        "**Fecha y Hora:** Hoy de 6:00 PM a 9:30 PM\n",
        "\n",
        "#### Objetivos de la Clase:\n",
        "1. **Realizar análisis de datos en Power BI utilizando DAX**.\n",
        "2. **Instalar Python y Visual Studio Code paso a paso**.\n",
        "\n",
        "### Estructura de la Clase:\n",
        "\n",
        "#### Sesión 1: Análisis de Datos en Power BI con DAX (6:00 PM - 8:00 PM)\n",
        "\n",
        "**6:00 PM - 6:15 PM:** Introducción a DAX (Data Analysis Expressions)\n",
        "- Qué es DAX y su importancia en Power BI.\n",
        "- Sintaxis básica y tipos de funciones DAX.\n",
        "\n",
        "**6:15 PM - 7:15 PM:** Funciones Básicas de DAX\n",
        "- Funciones de agregación: `SUM`, `AVERAGE`, `COUNT`.\n",
        "- Funciones de filtro: `FILTER`, `ALL`, `CALCULATE`.\n",
        "- Ejercicio: Crear medidas y columnas calculadas simples.\n",
        "\n",
        "**7:15 PM - 8:00 PM:** Casos de Uso Prácticos en DAX\n",
        "- Análisis de ventas: Creación de KPIs (Crecimiento de ventas, Margen de beneficio).\n",
        "- Análisis de clientes: Segmentación de clientes por comportamiento de compra.\n",
        "- Ejercicio: Implementación de un análisis de clientes.\n",
        "\n",
        "**8:00 PM - 8:20 PM:** Break\n",
        "\n",
        "#### Sesión 2: Instalación de Python y Visual Studio Code (8:15 PM - 9:30 PM)\n",
        "\n",
        "**8:20 PM - 8:30 PM:** Instalación de Python\n",
        "- **Paso 1:** Descargar el instalador de Python desde [python.org](https://www.python.org/downloads/).\n",
        "- **Paso 2:** Ejecutar el instalador y asegurarse de marcar la opción \"Add Python to PATH\".\n",
        "- **Paso 3:** Seguir las instrucciones de instalación.\n",
        "\n",
        "**8:30 PM - 8:40 PM:** Instalación de Visual Studio Code\n",
        "- **Paso 1:** Descargar Visual Studio Code desde [code.visualstudio.com](https://code.visualstudio.com/).\n",
        "- **Paso 2:** Ejecutar el instalador y seguir las instrucciones.\n",
        "- **Paso 3:** Instalar la extensión de Python para VS Code.\n",
        "  - Abrir Visual Studio Code.\n",
        "  - Ir a \"Extensions\" (icono de cuadrados en la barra lateral izquierda).\n",
        "  - Buscar \"Python\" e instalar la extensión proporcionada por Microsoft.\n",
        "\n",
        "**8:40 PM - 9:00 PM:** Configuración de Python en Visual Studio Code\n",
        "- Crear y abrir un nuevo archivo `.py`.\n",
        "- Configurar el intérprete de Python.\n",
        "  - Presionar `Ctrl+Shift+P` y seleccionar \"Python: Select Interpreter\".\n",
        "  - Elegir la versión de Python instalada.\n",
        "- Ejecutar un script Python sencillo en VS Code para verificar la configuración.\n",
        "\n",
        "**9:00 PM - 9:20 PM:** Introducción a Python en Visual Studio Code\n",
        "- Conceptos básicos: variables, tipos de datos, operaciones básicas.\n",
        "- Primer script en Python: cálculo de estadísticas básicas (promedio, mediana, moda) de una lista de números.\n",
        "\n",
        "**9:20 PM - 9:30 PM:** Preguntas y Respuestas\n",
        "- Resolución de dudas sobre Power BI, DAX, Python y Visual Studio Code.\n",
        "- Recomendaciones de recursos adicionales para profundizar en DAX y Python.\n",
        "\n",
        "### Recursos Recomendados:\n",
        "\n",
        "#### Power BI y DAX:\n",
        "- [Microsoft Learn - Power BI](https://learn.microsoft.com/en-us/power-bi/)\n",
        "- [DAX Guide](https://dax.guide/)\n",
        "- [YouTube - Power BI DAX Tutorials](https://www.youtube.com/results?search_query=power+bi+dax+tutorials)\n",
        "\n",
        "#### Python:\n",
        "- [Python.org - Getting Started](https://www.python.org/about/gettingstarted/)\n",
        "- [Visual Studio Code Documentation](https://code.visualstudio.com/docs)\n",
        "- [Python for Data Science Handbook](https://jakevdp.github.io/PythonDataScienceHandbook/)\n"
      ],
      "metadata": {
        "id": "UQyqm-SLgfSQ"
      }
    }
  ]
}