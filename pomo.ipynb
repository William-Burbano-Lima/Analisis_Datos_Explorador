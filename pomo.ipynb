{
  "nbformat": 4,
  "nbformat_minor": 0,
  "metadata": {
    "colab": {
      "provenance": [],
      "authorship_tag": "ABX9TyOW0iqo28BUzEwacvyLhgNr",
      "include_colab_link": true
    },
    "kernelspec": {
      "name": "python3",
      "display_name": "Python 3"
    },
    "language_info": {
      "name": "python"
    }
  },
  "cells": [
    {
      "cell_type": "markdown",
      "metadata": {
        "id": "view-in-github",
        "colab_type": "text"
      },
      "source": [
        "<a href=\"https://colab.research.google.com/github/William-Burbano-Lima/Analisis_Datos_Explorador/blob/main/pomo.ipynb\" target=\"_parent\"><img src=\"https://colab.research.google.com/assets/colab-badge.svg\" alt=\"Open In Colab\"/></a>"
      ]
    },
    {
      "cell_type": "code",
      "execution_count": null,
      "metadata": {
        "id": "ZeI_X8Wx9Rxd"
      },
      "outputs": [],
      "source": []
    },
    {
      "cell_type": "markdown",
      "source": [],
      "metadata": {
        "id": "eUlZCoh69T1K"
      }
    },
    {
      "cell_type": "code",
      "source": [
        "import tkinter as tk\n",
        "import time\n",
        "import threading\n",
        "import winsound\n",
        "\n",
        "# Reproduce sonido WAV\n",
        "def reproducir_sonido():\n",
        "    winsound.PlaySound(\"alerta2.wav\", winsound.SND_FILENAME)\n",
        "\n",
        "# Función de cuenta regresiva\n",
        "def cuenta_regresiva(segundos, mensaje):\n",
        "    for s in range(segundos, 0, -1):\n",
        "        minutos, segundos_rest = divmod(s, 60)\n",
        "        tiempo_str = f\"{mensaje}\\n{minutos:02}:{segundos_rest:02}\"\n",
        "        etiqueta.config(text=tiempo_str)\n",
        "        time.sleep(1)\n",
        "    reproducir_sonido()\n",
        "\n",
        "# Ciclo Pomodoro\n",
        "def iniciar_pomodoro():\n",
        "    boton_inicio.config(state=tk.DISABLED)\n",
        "    for ciclo in range(1, 4):  # 2 ciclos de ejemplo\n",
        "        cuenta_regresiva(1500, f\"Pomodoro {ciclo} - ¡A trabajar!\")   # 1500 segundos trabajo\n",
        "        cuenta_regresiva(300, \"¡Descanso corto!\")                    # 300 segundos descanso\n",
        "    cuenta_regresiva(1500, \"¡Descanso largo!\")                       # 1500 segundos descanso largo\n",
        "    etiqueta.config(text=\"¡Pomodoro completado!\")\n",
        "    boton_inicio.config(state=tk.NORMAL)\n",
        "\n",
        "# Hilo para evitar bloqueo de GUI\n",
        "def iniciar_en_hilo():\n",
        "    hilo = threading.Thread(target=iniciar_pomodoro)\n",
        "    hilo.start()\n",
        "\n",
        "# Interfaz\n",
        "ventana = tk.Tk()\n",
        "ventana.title(\"Temporizador Pomodoro\")\n",
        "ventana.geometry(\"300x200\")\n",
        "\n",
        "etiqueta = tk.Label(ventana, text=\"Haz clic para iniciar\", font=(\"Arial\", 16), justify=\"center\")\n",
        "etiqueta.pack(pady=20)\n",
        "\n",
        "boton_inicio = tk.Button(ventana, text=\"Iniciar Pomodoro\", command=iniciar_en_hilo, font=(\"Arial\", 12))\n",
        "boton_inicio.pack(pady=10)\n",
        "\n",
        "ventana.mainloop()\n"
      ],
      "metadata": {
        "id": "_90SqB989W8a"
      },
      "execution_count": null,
      "outputs": []
    }
  ]
}