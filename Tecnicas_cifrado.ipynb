{
  "nbformat": 4,
  "nbformat_minor": 0,
  "metadata": {
    "colab": {
      "provenance": [],
      "authorship_tag": "ABX9TyMnBnX1zOo7Ed9UPH4nQZal",
      "include_colab_link": true
    },
    "kernelspec": {
      "name": "python3",
      "display_name": "Python 3"
    },
    "language_info": {
      "name": "python"
    }
  },
  "cells": [
    {
      "cell_type": "markdown",
      "metadata": {
        "id": "view-in-github",
        "colab_type": "text"
      },
      "source": [
        "<a href=\"https://colab.research.google.com/github/William-Burbano-Lima/Analisis_Datos_Explorador/blob/main/Tecnicas_cifrado.ipynb\" target=\"_parent\"><img src=\"https://colab.research.google.com/assets/colab-badge.svg\" alt=\"Open In Colab\"/></a>"
      ]
    },
    {
      "cell_type": "code",
      "execution_count": null,
      "metadata": {
        "id": "X32kaz1a5ucx"
      },
      "outputs": [],
      "source": []
    },
    {
      "cell_type": "markdown",
      "source": [
        "# Cifrado Simétrico con Python - Clase Completa de 4 Horas\n",
        "\n",
        "## Introducción al Cifrado Simétrico\n",
        "\n",
        "### 1. ¿Qué es el Cifrado Simétrico?\n",
        "El cifrado simétrico es un método de cifrado donde la misma clave se utiliza para cifrar y descifrar los datos. Es uno de los métodos más antiguos y comunes para proteger la información.\n",
        "\n",
        "- **Clave Secreta:** Una cadena utilizada tanto para el cifrado como para el descifrado.\n",
        "- **Ejemplos:** AES (Advanced Encryption Standard), DES (Data Encryption Standard).\n",
        "\n",
        "### 2. Necesidad del Cifrado\n",
        "El cifrado es crucial para proteger la información confidencial durante la transmisión y el almacenamiento, especialmente en aplicaciones de mensajería como WhatsApp.\n",
        "\n",
        "## Algoritmos de Cifrado Simétrico\n",
        "\n",
        "### 1. Algoritmos Populares\n",
        "- **AES:** Estándar de cifrado avanzado, utilizado ampliamente por su seguridad y eficiencia.\n",
        "- **DES y 3DES:** Anteriores a AES, menos seguros en la actualidad debido a su tamaño de clave más pequeño.\n",
        "\n",
        "### 2. Ventajas y Desventajas\n",
        "- **Ventajas:** Rápido y eficiente para grandes cantidades de datos.\n",
        "- **Desventajas:** La distribución segura de la clave puede ser un desafío.\n",
        "\n",
        "## Ejemplo Práctico de Cifrado Simétrico con Python\n",
        "\n",
        "### 1. Instalación de la Biblioteca `cryptography`\n",
        "Asegúrate de tener la biblioteca `cryptography` instalada. Si no es así, instálala con:\n",
        "```bash\n",
        "pip install cryptography\n",
        "```\n",
        "\n",
        "### 2. Código Básico para Cifrar y Descifrar\n",
        "\n",
        "```python\n",
        "from cryptography.fernet import Fernet\n",
        "\n",
        "# Generar una clave\n",
        "clave = Fernet.generate_key()\n",
        "print(f\"Clave generada: {clave.decode()}\")\n",
        "\n",
        "# Crear un objeto Fernet\n",
        "fernet = Fernet(clave)\n",
        "\n",
        "# Mensaje a cifrar\n",
        "mensaje = \"Este es un mensaje secreto que se enviara por WhatsApp.\"\n",
        "\n",
        "# Cifrar el mensaje\n",
        "mensaje_cifrado = fernet.encrypt(mensaje.encode())\n",
        "print(f\"Mensaje cifrado: {mensaje_cifrado.decode()}\")\n",
        "\n",
        "# Descifrar el mensaje\n",
        "mensaje_descifrado = fernet.decrypt(mensaje_cifrado).decode()\n",
        "print(f\"Mensaje descifrado: {mensaje_descifrado}\")\n",
        "```\n",
        "\n",
        "### 3. Explicación del Código\n",
        "- **Fernet.generate_key():** Genera una clave única.\n",
        "- **fernet.encrypt():** Cifra el mensaje usando la clave.\n",
        "- **fernet.decrypt():** Descifra el mensaje cifrado usando la misma clave.\n",
        "\n",
        "## Actividad Práctica\n",
        "\n",
        "### 1. Objetivo del Programa\n",
        "Crear un programa que permita al usuario introducir un mensaje y una clave para cifrar y descifrar el mensaje.\n",
        "\n",
        "### 2. Instrucciones para los Estudiantes\n",
        "- Solicitar al usuario un mensaje para cifrar.\n",
        "- Solicitar una clave para el cifrado y descifrado.\n",
        "- Cifrar y mostrar el mensaje cifrado.\n",
        "- Descifrar y mostrar el mensaje original.\n",
        "\n",
        "### 3. Código Base para los Estudiantes\n",
        "\n",
        "```python\n",
        "from cryptography.fernet import Fernet\n",
        "\n",
        "# Solicitar al usuario que introduzca un mensaje\n",
        "mensaje = input(\"Introduce el mensaje que deseas cifrar: \")\n",
        "\n",
        "# Generar una clave o solicitar una clave existente\n",
        "clave = Fernet.generate_key()\n",
        "print(f\"Clave generada (guárdala para descifrar): {clave.decode()}\")\n",
        "\n",
        "# Crear un objeto Fernet con la clave\n",
        "fernet = Fernet(clave)\n",
        "\n",
        "# Cifrar el mensaje\n",
        "mensaje_cifrado = fernet.encrypt(mensaje.encode())\n",
        "print(f\"Mensaje cifrado: {mensaje_cifrado.decode()}\")\n",
        "\n",
        "# Descifrar el mensaje cifrado\n",
        "mensaje_descifrado = fernet.decrypt(mensaje_cifrado).decode()\n",
        "print(f\"Mensaje descifrado: {mensaje_descifrado}\")\n",
        "```\n",
        "\n",
        "### 4. Extensión: Guardar y Cargar la Clave\n",
        "\n",
        "#### Guardar la Clave\n",
        "```python\n",
        "with open(\"clave.txt\", \"wb\") as archivo_clave:\n",
        "    archivo_clave.write(clave)\n",
        "print(\"Clave guardada en 'clave.txt'.\")\n",
        "```\n",
        "\n",
        "#### Cargar la Clave\n",
        "```python\n",
        "with open(\"clave.txt\", \"rb\") as archivo_clave:\n",
        "    clave_cargada = archivo_clave.read()\n",
        "fernet = Fernet(clave_cargada)\n",
        "```\n",
        "\n",
        "## Conclusión y Discusión Final\n",
        "\n",
        "### 1. Importancia del Manejo Seguro de Claves\n",
        "Discutir cómo el manejo seguro de claves es fundamental para mantener la seguridad en el cifrado simétrico.\n",
        "\n",
        "### 2. Aplicaciones en la Vida Real\n",
        "Reflexionar sobre las aplicaciones del cifrado simétrico en la protección de la información, como en aplicaciones de mensajería segura.\n"
      ],
      "metadata": {
        "id": "jNdqImsy5vKB"
      }
    },
    {
      "cell_type": "code",
      "source": [
        "from cryptography.fernet import Fernet\n",
        "\n",
        "# Generar una clave\n",
        "clave = Fernet.generate_key()\n",
        "print(f\"Clave generada: {clave.decode()}\")\n",
        "\n",
        "# Crear un objeto Fernet\n",
        "fernet = Fernet(clave)\n",
        "\n",
        "# Mensaje a cifrar\n",
        "mensaje = \"Este es un mensaje secreto que se enviara por WhatsApp.\"\n",
        "\n",
        "# Cifrar el mensaje\n",
        "mensaje_cifrado = fernet.encrypt(mensaje.encode())\n",
        "print(f\"Mensaje cifrado: {mensaje_cifrado.decode()}\")\n",
        "\n",
        "# Descifrar el mensaje\n",
        "mensaje_descifrado = fernet.decrypt(mensaje_cifrado).decode()\n",
        "print(f\"Mensaje descifrado: {mensaje_descifrado}\")"
      ],
      "metadata": {
        "colab": {
          "base_uri": "https://localhost:8080/"
        },
        "id": "ouPFnFo75w7m",
        "outputId": "335b2724-f9f0-45b9-9fa9-caf981e2c701"
      },
      "execution_count": 1,
      "outputs": [
        {
          "output_type": "stream",
          "name": "stdout",
          "text": [
            "Clave generada: dvJ_Pd9qZiXn4eFG9-cGHkfgkNvZwNibClcnuOztMks=\n",
            "Mensaje cifrado: gAAAAABngDv-mgVrzzD7ZrvlkcYFwu7XnfuO0vlRFySCABawniTdF9m-ZbZ1o2pWCkKbDgsYMcXxe77jSxXAgFE7WjGkJqFufmm7KKXluytL9q9kDrbunfXlWLcfp1x1dzFj63iRHVws4qIBe21UFO1aasR1exS0BA==\n",
            "Mensaje descifrado: Este es un mensaje secreto que se enviara por WhatsApp.\n"
          ]
        }
      ]
    },
    {
      "cell_type": "code",
      "source": [
        "from cryptography.fernet import Fernet\n",
        "\n",
        "# Solicitar al usuario que introduzca un mensaje\n",
        "mensaje = input(\"Introduce el mensaje que deseas cifrar: \")\n",
        "\n",
        "# Generar una clave o solicitar una clave existente\n",
        "clave = Fernet.generate_key()\n",
        "print(f\"Clave generada (guárdala para descifrar): {clave.decode()}\")\n",
        "\n",
        "# Crear un objeto Fernet con la clave\n",
        "fernet = Fernet(clave)\n",
        "\n",
        "# Cifrar el mensaje\n",
        "mensaje_cifrado = fernet.encrypt(mensaje.encode())\n",
        "print(f\"Mensaje cifrado: {mensaje_cifrado.decode()}\")\n",
        "\n",
        "# Descifrar el mensaje cifrado\n",
        "mensaje_descifrado = fernet.decrypt(mensaje_cifrado).decode()\n",
        "print(f\"Mensaje descifrado: {mensaje_descifrado}\")"
      ],
      "metadata": {
        "colab": {
          "base_uri": "https://localhost:8080/"
        },
        "id": "_L5dNUoB69BM",
        "outputId": "a91379ab-409d-49fe-9dc0-3b6b478cf65f"
      },
      "execution_count": 2,
      "outputs": [
        {
          "output_type": "stream",
          "name": "stdout",
          "text": [
            "Introduce el mensaje que deseas cifrar: Soy Campista en Ciberseguridad\n",
            "Clave generada (guárdala para descifrar): syaWLZnpCAfIgqMDUeQUPRcjoGwceBuZleQbKbjyJMg=\n",
            "Mensaje cifrado: gAAAAABngDx6z1MbjIbFRXwTWvf1A_aPRVAyb3cJF82J_Gj3IsUJcdSTdt6Yy-Zf2DP-WEJSdhabFIY4_meusVhTKi8ZOA-1rNxoBfzjjJBZKFUOADXL0nU=\n",
            "Mensaje descifrado: Soy Campista en Ciberseguridad\n"
          ]
        }
      ]
    },
    {
      "cell_type": "code",
      "source": [
        "with open(\"clave.txt\", \"wb\") as archivo_clave:\n",
        "    archivo_clave.write(clave)\n",
        "print(\"Clave guardada en 'clave.txt'.\")\n"
      ],
      "metadata": {
        "colab": {
          "base_uri": "https://localhost:8080/"
        },
        "id": "ogJbk7HT7Tch",
        "outputId": "f2597525-d112-4a86-92ef-4e4a1e7ea3f9"
      },
      "execution_count": 3,
      "outputs": [
        {
          "output_type": "stream",
          "name": "stdout",
          "text": [
            "Clave guardada en 'clave.txt'.\n"
          ]
        }
      ]
    }
  ]
}