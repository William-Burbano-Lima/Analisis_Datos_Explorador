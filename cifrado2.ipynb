{
  "nbformat": 4,
  "nbformat_minor": 0,
  "metadata": {
    "colab": {
      "provenance": [],
      "authorship_tag": "ABX9TyPctPllgiqLCiMPTclFri7n",
      "include_colab_link": true
    },
    "kernelspec": {
      "name": "python3",
      "display_name": "Python 3"
    },
    "language_info": {
      "name": "python"
    }
  },
  "cells": [
    {
      "cell_type": "markdown",
      "metadata": {
        "id": "view-in-github",
        "colab_type": "text"
      },
      "source": [
        "<a href=\"https://colab.research.google.com/github/William-Burbano-Lima/Analisis_Datos_Explorador/blob/main/cifrado2.ipynb\" target=\"_parent\"><img src=\"https://colab.research.google.com/assets/colab-badge.svg\" alt=\"Open In Colab\"/></a>"
      ]
    },
    {
      "cell_type": "code",
      "execution_count": null,
      "metadata": {
        "id": "0T7_lT3J-YZN"
      },
      "outputs": [],
      "source": []
    },
    {
      "cell_type": "markdown",
      "source": [
        "# Talento Tech - Ciberseguridad\n",
        "___\n",
        "CIFRADO Y DESCIFRADO SIMETRICO\n",
        "\n",
        "### Objetivos de la Clase\n",
        "\n",
        "1. **Entender los Conceptos Básicos de Cifrado y Descifrado:**\n",
        "   - Explicar qué es el cifrado y su importancia en la seguridad de la información.\n",
        "   - Diferenciar entre cifrado simétrico y asimétrico, aunque se enfoque en un método básico simétrico.\n",
        "\n",
        "2. **Introducir el Cifrado César:**\n",
        "   - Explicar la historia y funcionamiento del Cifrado César como ejemplo de cifrado por sustitución.\n",
        "   - Entender cómo se utiliza una clave para desplazar caracteres en el alfabeto.\n",
        "\n",
        "3. **Implementar un Programa Básico en Python:**\n",
        "   - Guiar a los estudiantes para escribir funciones que cifren y descifren un mensaje usando el Cifrado César.\n",
        "   - Aprender a manejar entradas de usuario y manipulación de cadenas en Python.\n",
        "\n",
        "4. **Desarrollar Habilidades Prácticas en Python:**\n",
        "   - Utilizar estructuras de control como bucles y condicionales.\n",
        "   - Trabajar con la conversión entre caracteres y valores ASCII para el cifrado y descifrado.\n",
        "\n",
        "5. **Promover el Pensamiento Crítico:**\n",
        "   - Analizar las limitaciones y fortalezas del Cifrado César.\n",
        "   - Discutir posibles mejoras o alternativas más seguras para el cifrado de datos.\n",
        "\n",
        "6. **Fomentar la Creatividad:**\n",
        "   - Invitar a los estudiantes a modificar el programa para implementar otros tipos de cifrado o características adicionales, como manejo de mayúsculas y minúsculas.\n",
        "___\n",
        "\n",
        "Programa Básico en Python de cifrado y descifrado basado en una técnica sencilla como el **Cifrado César**\n",
        "\n",
        "```python\n",
        "def cifrar_mensaje(mensaje, clave):\n",
        "    mensaje_cifrado = \"\"\n",
        "    for caracter in mensaje:\n",
        "        if caracter.isalpha():\n",
        "            # Convertir a mayúsculas para mantener consistencia\n",
        "            offset = 65 if caracter.isupper() else 97\n",
        "            mensaje_cifrado += chr((ord(caracter) + clave - offset) % 26 + offset)\n",
        "        else:\n",
        "            mensaje_cifrado += caracter\n",
        "    return mensaje_cifrado\n",
        "\n",
        "def descifrar_mensaje(mensaje_cifrado, clave):\n",
        "    mensaje_descifrado = \"\"\n",
        "    for caracter in mensaje_cifrado:\n",
        "        if caracter.isalpha():\n",
        "            offset = 65 if caracter.isupper() else 97\n",
        "            mensaje_descifrado += chr((ord(caracter) - clave - offset) % 26 + offset)\n",
        "        else:\n",
        "            mensaje_descifrado += caracter\n",
        "    return mensaje_descifrado\n",
        "\n",
        "def main():\n",
        "    print(\"Cifrado y Descifrado de Mensajes\")\n",
        "    \n",
        "    # Cifrado\n",
        "    mensaje = input(\"Ingrese el mensaje a cifrar: \")\n",
        "    clave = int(input(\"Ingrese la clave de cifrado (número entero): \"))\n",
        "    mensaje_cifrado = cifrar_mensaje(mensaje, clave)\n",
        "    print(f\"Mensaje cifrado: {mensaje_cifrado}\")\n",
        "    \n",
        "    # Descifrado\n",
        "    mensaje_a_descifrar = input(\"Ingrese el mensaje cifrado: \")\n",
        "    clave_descifrado = int(input(\"Ingrese la clave de descifrado: \"))\n",
        "    mensaje_descifrado = descifrar_mensaje(mensaje_a_descifrar, clave_descifrado)\n",
        "    print(f\"Mensaje descifrado: {mensaje_descifrado}\")\n",
        "\n",
        "if __name__ == \"__main__\":\n",
        "    main()\n",
        "```\n",
        "\n",
        "### Funciones:\n",
        "\n",
        "1. **`cifrar_mensaje`**: Esta función cifra el mensaje utilizando un desplazamiento basado en la clave proporcionada. Solo se cifran las letras del alfabeto, dejando otros caracteres intactos.\n",
        "   \n",
        "2. **`descifrar_mensaje`**: Esta función realiza la operación inversa para descifrar el mensaje usando la misma clave.\n",
        "\n",
        "3. **`main`**: Es la función principal que maneja la entrada y salida del usuario. Solicita al usuario ingresar un mensaje y una clave para cifrar, luego muestra el mensaje cifrado. Posteriormente, pide el mensaje cifrado y la clave para descifrarlo y muestra el mensaje original.\n",
        "\n",
        "___\n",
        "William Burbano Lima"
      ],
      "metadata": {
        "id": "GrQQEMTu-Y6H"
      }
    },
    {
      "cell_type": "code",
      "source": [],
      "metadata": {
        "id": "4wzsgoRjP72G"
      },
      "execution_count": null,
      "outputs": []
    }
  ]
}