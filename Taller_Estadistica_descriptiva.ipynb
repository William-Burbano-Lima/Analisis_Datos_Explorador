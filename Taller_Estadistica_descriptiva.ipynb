{
  "nbformat": 4,
  "nbformat_minor": 0,
  "metadata": {
    "colab": {
      "provenance": [],
      "authorship_tag": "ABX9TyPm8knkwXwUIKEXBjCFGu1k",
      "include_colab_link": true
    },
    "kernelspec": {
      "name": "python3",
      "display_name": "Python 3"
    },
    "language_info": {
      "name": "python"
    }
  },
  "cells": [
    {
      "cell_type": "markdown",
      "metadata": {
        "id": "view-in-github",
        "colab_type": "text"
      },
      "source": [
        "<a href=\"https://colab.research.google.com/github/William-Burbano-Lima/Analisis_Datos_Explorador/blob/main/Taller_Estadistica_descriptiva.ipynb\" target=\"_parent\"><img src=\"https://colab.research.google.com/assets/colab-badge.svg\" alt=\"Open In Colab\"/></a>"
      ]
    },
    {
      "cell_type": "code",
      "execution_count": null,
      "metadata": {
        "id": "2OiPQ3eaTKd4"
      },
      "outputs": [],
      "source": []
    },
    {
      "cell_type": "markdown",
      "source": [
        "\"\"\"\n",
        "# Taller de Análisis de Datos en Excel - Paso a Paso\n",
        "\n",
        "Este notebook contiene instrucciones detalladas para realizar un análisis de datos en Excel, enfocándose en estadísticas descriptivas y probabilidad.\n",
        "\n",
        "## 1. Cargar el Dataset en Excel\n",
        "1. Descarga el archivo `Dataset_Taller_Excel.csv`.\n",
        "2. Ábrelo en Excel y revisa su estructura.\n",
        "3. Convierte la tabla en un formato de Tabla Dinámica para facilitar el análisis.\n",
        "\n",
        "## 2. Estadística Descriptiva en Excel\n",
        "\n",
        "### 2.1 Cálculo de Medidas de Tendencia Central\n",
        "- **Media:** `=PROMEDIO(rango_de_datos)`\n",
        "- **Mediana:** `=MEDIANA(rango_de_datos)`\n",
        "- **Moda:** `=MODA.UNO(rango_de_datos)`\n",
        "\n",
        "### 2.2 Cálculo de Dispersión\n",
        "- **Varianza:** `=VAR.P(rango_de_datos)`\n",
        "- **Desviación Estándar:** `=DESVEST.P(rango_de_datos)`\n",
        "\n",
        "## 3. Visualización de Datos en Excel\n",
        "\n",
        "### 3.1 Crear un Histograma\n",
        "1. Selecciona los datos.\n",
        "2. Ve a `Insertar > Gráficos > Histograma`.\n",
        "3. Ajusta los intervalos en `Formato de eje`.\n",
        "\n",
        "### 3.2 Crear un Gráfico de Dispersión\n",
        "1. Selecciona dos variables (ejemplo: Edad vs Ingreso).\n",
        "2. Ve a `Insertar > Dispersión`.\n",
        "3. Personaliza los ejes y etiquetas.\n",
        "\n",
        "## 4. Análisis de Correlación en Excel\n",
        "1. Usa `=COEF.DE.CORREL(rango_x, rango_y)` para calcular la relación entre dos variables.\n",
        "2. Interpreta los resultados:\n",
        "   - **Cercano a 1:** Correlación positiva fuerte.\n",
        "   - **Cercano a -1:** Correlación negativa fuerte.\n",
        "   - **Cercano a 0:** Sin correlación.\n",
        "\n",
        "## 5. Probabilidad en Excel\n",
        "\n",
        "### 5.1 Frecuencias y Tablas de Probabilidad\n",
        "1. Usa `=CONTAR.SI(rango, criterio)` para contar valores específicos.\n",
        "2. Usa `=FRECUENCIA(rango, intervalos)` para calcular la distribución.\n",
        "\n",
        "### 5.2 Probabilidad de Eventos\n",
        "- **Probabilidad Simple:** `=CONTAR.SI(rango, criterio) / TOTAL`\n",
        "- **Probabilidad Conjunta:** `=CONTAR.SI.CONJUNTO(rango1, criterio1, rango2, criterio2) / TOTAL`\n",
        "\n",
        "## 6. Actividad Final\n",
        "- Realiza un análisis de correlación entre las variables.\n",
        "- Construye un dashboard con gráficos dinámicos.\n",
        "- Interpreta los resultados en un informe breve.\n",
        "\n",
        "## Conclusión\n",
        "Este taller permite comprender los conceptos básicos de estadística y probabilidad utilizando Excel de manera práctica y aplicada.\n",
        "\n",
        "\"\"\"\n",
        "\n",
        "## **Resumen Rápido**\n",
        "| Concepto | Definición | Fórmula | Cálculo en Excel | Cálculo en Python |\n",
        "|----------|------------|---------|-----------------|----------------|\n",
        "| **Media** | Promedio de los valores | \\( \\frac{\\sum X_i}{N} \\) | `=PROMEDIO(A1:A5)` | `np.mean(datos)` |\n",
        "| **Mediana** | Valor central de los datos ordenados | - | `=MEDIANA(A1:A5)` | `np.median(datos)` |\n",
        "| **Moda** | Valor que más se repite | - | `=MODA.UNO(A1:A5)` | `stats.mode(datos).mode[0]` |\n",
        "| **Desviación Estándar** | Dispersión de los datos respecto a la media | \\( \\sigma = \\sqrt{\\frac{\\sum (X_i - \\bar{X})^2}{N}} \\) | `=DESVEST.P(A1:A5)` | `np.std(datos, ddof=0)` |\n",
        "| **Varianza** | Dispersión cuadrada de los datos | \\( \\frac{\\sum (X_i - \\bar{X})^2}{N} \\) | `=VAR.P(A1:A5)` | `np.var(datos, ddof=0)` |\n",
        "| **Correlación** | Relación entre dos variables | Pearson \\( r \\) | `=COEF.DE.CORREL(A1:A5, B1:B5)` | `np.corrcoef(x, y)[0,1]` |\n",
        "\n",
        "---\n"
      ],
      "metadata": {
        "id": "TiF90fblTK8q"
      }
    },
    {
      "cell_type": "code",
      "source": [],
      "metadata": {
        "id": "FGKuNJizA0B8"
      },
      "execution_count": null,
      "outputs": []
    }
  ]
}